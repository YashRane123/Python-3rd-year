{
  "nbformat": 4,
  "nbformat_minor": 0,
  "metadata": {
    "colab": {
      "name": "Date_Conversion.ipynb",
      "provenance": []
    },
    "kernelspec": {
      "name": "python3",
      "display_name": "Python 3"
    },
    "language_info": {
      "name": "python"
    }
  },
  "cells": [
    {
      "cell_type": "code",
      "execution_count": 8,
      "metadata": {
        "colab": {
          "base_uri": "https://localhost:8080/"
        },
        "id": "ShEGxeNyY9Kh",
        "outputId": "66a3d8ac-d734-4478-f900-f8455201af5d"
      },
      "outputs": [
        {
          "output_type": "stream",
          "name": "stdout",
          "text": [
            "enter day: 18\n",
            "enter month: 2\n",
            "Enter year: 2022\n",
            "The date entered is:  2 / 18 / 2022\n",
            "February 18 2022\n"
          ]
        }
      ],
      "source": [
        "def date():\n",
        "  months = [' ','January' , 'February','March','April','May','June','July','August','September','October','November','December']\n",
        "  print(months[mon],day,yr)\n",
        "day = int(input(\"enter day: \"))\n",
        "mon = int(input(\"enter month: \"))\n",
        "yr = int(input(\"Enter year: \"))\n",
        "\n",
        "print(\"The date entered is: \",mon,\"/\",day,\"/\",yr)\n",
        "\n",
        "date()\n",
        "\n",
        "\n",
        "\n",
        "\n",
        "  "
      ]
    }
  ]
}