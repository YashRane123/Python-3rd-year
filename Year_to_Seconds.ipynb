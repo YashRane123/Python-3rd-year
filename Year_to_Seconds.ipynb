{
  "nbformat": 4,
  "nbformat_minor": 0,
  "metadata": {
    "colab": {
      "name": "Year_to_Seconds.ipynb",
      "provenance": []
    },
    "kernelspec": {
      "name": "python3",
      "display_name": "Python 3"
    },
    "language_info": {
      "name": "python"
    }
  },
  "cells": [
    {
      "cell_type": "code",
      "execution_count": 4,
      "metadata": {
        "colab": {
          "base_uri": "https://localhost:8080/"
        },
        "id": "HzuFVTRwW4-u",
        "outputId": "9ee2897a-58b9-4e49-e2a9-8f1c89e9429f"
      },
      "outputs": [
        {
          "output_type": "stream",
          "name": "stdout",
          "text": [
            "Enter the number of years: 3\n",
            "Numbers of seconds in  3 years is:  94608000\n"
          ]
        }
      ],
      "source": [
        "year = int(input(\"Enter the number of years: \"))\n",
        "sec = year * 365 *24*60*60\n",
        "print(\"Numbers of seconds in \",year,\"years is: \",sec)"
      ]
    }
  ]
}