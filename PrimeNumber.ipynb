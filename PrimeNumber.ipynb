{
  "nbformat": 4,
  "nbformat_minor": 0,
  "metadata": {
    "colab": {
      "name": "PrimeNumber.ipynb",
      "provenance": [],
      "authorship_tag": "ABX9TyOETdg3XjTeYTnAL90yKyYK",
      "include_colab_link": true
    },
    "kernelspec": {
      "name": "python3",
      "display_name": "Python 3"
    },
    "language_info": {
      "name": "python"
    }
  },
  "cells": [
    {
      "cell_type": "markdown",
      "metadata": {
        "id": "view-in-github",
        "colab_type": "text"
      },
      "source": [
        "<a href=\"https://colab.research.google.com/github/YashRane123/Python-3rd-year/blob/main/PrimeNumber.ipynb\" target=\"_parent\"><img src=\"https://colab.research.google.com/assets/colab-badge.svg\" alt=\"Open In Colab\"/></a>"
      ]
    },
    {
      "cell_type": "code",
      "execution_count": 5,
      "metadata": {
        "colab": {
          "base_uri": "https://localhost:8080/"
        },
        "id": "lB6tQl6UJYgZ",
        "outputId": "c8e96c10-c5eb-47af-8e3a-0d53f2da323e"
      },
      "outputs": [
        {
          "output_type": "stream",
          "name": "stdout",
          "text": [
            "Enter range: 20\n",
            "Prime number=  1 2 3 5 7 11 13 17 19 "
          ]
        }
      ],
      "source": [
        "n = int(input(\"Enter range: \"))\n",
        "print(\"Prime number= \",end=' ')\n",
        "for n in range(1,n):\n",
        "  for j in range(2,n):\n",
        "    if(n%j==0):\n",
        "      break\n",
        "  else:\n",
        "    print(n,end=' ')"
      ]
    }
  ]
}